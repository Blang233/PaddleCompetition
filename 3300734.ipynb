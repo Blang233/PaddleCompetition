{
 "cells": [
  {
   "cell_type": "markdown",
   "metadata": {
    "collapsed": false
   },
   "source": [
    "# 比赛传送门： [常规赛：遥感影像地块分割](https://aistudio.baidu.com/aistudio/competition/detail/63/0/introduction)"
   ]
  },
  {
   "cell_type": "markdown",
   "metadata": {
    "collapsed": false
   },
   "source": [
    "# 一、准备工作"
   ]
  },
  {
   "cell_type": "code",
   "execution_count": null,
   "metadata": {
    "collapsed": false
   },
   "outputs": [
    {
     "name": "stdout",
     "output_type": "stream",
     "text": [
      "Cloning into 'work/PaddleSeg'...\n",
      "remote: Enumerating objects: 81, done.\u001b[K\n",
      "remote: Counting objects: 100% (81/81), done.\u001b[K\n",
      "remote: Compressing objects: 100% (53/53), done.\u001b[K\n",
      "remote: Total 15118 (delta 26), reused 78 (delta 25), pack-reused 15037\u001b[K\n",
      "Receiving objects: 100% (15118/15118), 339.00 MiB | 13.11 MiB/s, done.\n",
      "Resolving deltas: 100% (9890/9890), done.\n",
      "Checking connectivity... done.\n"
     ]
    }
   ],
   "source": [
    "#安装PaddleSeg\r\n",
    "!git clone https://gitee.com/paddlepaddle/PaddleSeg.git work/PaddleSeg"
   ]
  },
  {
   "cell_type": "code",
   "execution_count": 1,
   "metadata": {
    "collapsed": false
   },
   "outputs": [],
   "source": [
    "#解压数据集\r\n",
    "!unzip -q data/data77571/img_test.zip -d data\r\n",
    "!unzip -q data/data77571/train_and_label.zip -d data\r\n",
    "!rm -rf data/__MACOSX"
   ]
  },
  {
   "cell_type": "code",
   "execution_count": 2,
   "metadata": {
    "collapsed": false
   },
   "outputs": [],
   "source": [
    "#导入所需库\r\n",
    "import os\r\n",
    "import cv2\r\n",
    "import tqdm\r\n",
    "import numpy as np\r\n",
    "import matplotlib.pyplot as plt"
   ]
  },
  {
   "cell_type": "code",
   "execution_count": 3,
   "metadata": {
    "collapsed": false
   },
   "outputs": [
    {
     "name": "stderr",
     "output_type": "stream",
     "text": [
      "100%|██████████| 66652/66652 [00:40<00:00, 1656.42it/s]\n"
     ]
    },
    {
     "name": "stdout",
     "output_type": "stream",
     "text": [
      "[0.2852427534057493, 0.4050741163055872, 0.30788273420152434, 0.2349066794694833]\n"
     ]
    },
    {
     "data": {
      "image/png": "[encoded data removed]",
      "text/plain": [
       "<Figure size 864x648 with 1 Axes>"
      ]
     },
     "metadata": {},
     "output_type": "display_data"
    }
   ],
   "source": [
    "#数据集分析\r\n",
    "classes = [0, 1, 2, 3, 255]\r\n",
    "all_clasnum = {clas : 0 for clas in classes}\r\n",
    "imgsbigger1 = {clas : 0 for clas in classes}\r\n",
    "imgs_root = 'data/lab_train'\r\n",
    "imgs_name = os.listdir(imgs_root)\r\n",
    "img_nums = len(imgs_name)\r\n",
    "for img_name in tqdm.tqdm(imgs_name):\r\n",
    "    temp_clasnum = {clas : 0 for clas in classes}\r\n",
    "    img_path = os.path.join(imgs_root, img_name)\r\n",
    "    img_label = cv2.imread(img_path)\r\n",
    "    img_label = img_label[:, : ,0]\r\n",
    "    for clas in classes:\r\n",
    "        clasnum = np.count_nonzero(img_label == clas)\r\n",
    "        all_clasnum[clas] += clasnum\r\n",
    "        temp_clasnum[clas] += clasnum\r\n",
    "    temp_clas_proportion = [temp_clasnum[clas] / (img_label.shape[0] * img_label.shape[1]) for clas in classes]\r\n",
    "    if temp_clas_proportion[0] > 0.01:\r\n",
    "        imgsbigger1[0] += 1\r\n",
    "    if temp_clas_proportion[1] > 0.01:\r\n",
    "        imgsbigger1[1] += 1\r\n",
    "    if temp_clas_proportion[2] > 0.01:\r\n",
    "        imgsbigger1[2] += 1\r\n",
    "    if temp_clas_proportion[3] > 0.01:\r\n",
    "        imgsbigger1[3] += 1\r\n",
    "area = [all_clasnum[clas] for clas in classes]\r\n",
    "proportionbigger1 = [imgsbigger1[clas] / img_nums for clas in classes]\r\n",
    "print(proportionbigger1[0:4])\r\n",
    "plt.figure(figsize=(12,9))\r\n",
    "plt.pie(area,labels=classes,autopct='%1.1f%%')\r\n",
    "plt.axis('equal')\r\n",
    "plt.show()"
   ]
  },
  {
   "cell_type": "code",
   "execution_count": 4,
   "metadata": {
    "collapsed": false
   },
   "outputs": [],
   "source": [
    "#数据集划分\r\n",
    "imgs_name = os.listdir('data/img_train')\r\n",
    "ratio = 0.9\r\n",
    "cutline = int(len(imgs_name)*ratio)\r\n",
    "train_list_origin = imgs_name[:cutline]\r\n",
    "val_list_origin = imgs_name[cutline:]\r\n",
    "\r\n",
    "#生成trainlist\r\n",
    "with open('work/Configration/train_list.txt','w') as f:\r\n",
    "    for i in range(len(train_list_origin)):\r\n",
    "        train_img_name = 'img_train/' + train_list_origin[i]\r\n",
    "        train_lab_name = 'lab_train/' + train_list_origin[i].split('.')[0] + '.png'\r\n",
    "        f.write(train_img_name + ' ' + train_lab_name + '\\n')\r\n",
    "\r\n",
    "#生成vallist\r\n",
    "with open('work/Configration/val_list.txt','w') as f:\r\n",
    "    for i in range(len(val_list_origin)):\r\n",
    "        val_img_name = 'img_train/' + val_list_origin[i]\r\n",
    "        val_lab_name = 'lab_train/' + val_list_origin[i].split('.')[0] + '.png'\r\n",
    "        f.write(val_img_name + ' ' + val_lab_name + '\\n')"
   ]
  },
  {
   "cell_type": "code",
   "execution_count": null,
   "metadata": {
    "collapsed": false
   },
   "outputs": [],
   "source": [
    "#开始训练\r\n",
    "!python work/PaddleSeg/train.py \\\r\n",
    "       --config work/Configration/Segformer_B5_Test.yaml \\\r\n",
    "       --do_eval \\\r\n",
    "       --save_interval 5000 \\\r\n",
    "       --save_dir work/output"
   ]
  },
  {
   "cell_type": "code",
   "execution_count": null,
   "metadata": {
    "collapsed": false
   },
   "outputs": [],
   "source": [
    "#恢复训练\r\n",
    "!python work/PaddleSeg/train.py \\\r\n",
    "       --config work/Configration/Segformer_B5_Test.yaml \\\r\n",
    "       --resume_model work/output/iter_10000 \\\r\n",
    "       --do_eval \\\r\n",
    "       --use_vdl \\\r\n",
    "       --save_interval 5000 \\\r\n",
    "       --save_dir work/output"
   ]
  },
  {
   "cell_type": "code",
   "execution_count": null,
   "metadata": {
    "collapsed": false
   },
   "outputs": [],
   "source": [
    "#模型预测\r\n",
    "!python work/PaddleSeg/predict.py \\\r\n",
    "       --config work/Configration/Segformer_B5_Test.yaml \\\r\n",
    "       --model_path work/output/best_model/model.pdparams \\\r\n",
    "       --image_path data/img_testA \\\r\n",
    "       --save_dir work/result"
   ]
  },
  {
   "cell_type": "code",
   "execution_count": null,
   "metadata": {
    "collapsed": false
   },
   "outputs": [],
   "source": [
    "#结果打包\r\n",
    "!zip -q -r -j result.zip work/result/result_prediction"
   ]
  }
 ],
 "metadata": {
  "kernelspec": {
   "display_name": "Python 3",
   "language": "python",
   "name": "py35-paddle1.2.0"
  },
  "language_info": {
   "codemirror_mode": {
    "name": "ipython",
    "version": 3
   },
   "file_extension": ".py",
   "mimetype": "text/x-python",
   "name": "python",
   "nbconvert_exporter": "python",
   "pygments_lexer": "ipython3",
   "version": "3.7.4"
  }
 },
 "nbformat": 4,
 "nbformat_minor": 1
}
